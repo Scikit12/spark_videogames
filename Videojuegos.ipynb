{
 "cells": [
  {
   "cell_type": "code",
   "execution_count": 10,
   "id": "e6d661ff-5ea7-447b-9d2a-35dd6ec0ac00",
   "metadata": {},
   "outputs": [],
   "source": [
    "# Download DataSet\n",
    "url = 'http://bit.ly/3YED9y3'"
   ]
  },
  {
   "cell_type": "code",
   "execution_count": 11,
   "id": "5209b67d-9925-4939-8e3f-8fcc41aba13a",
   "metadata": {},
   "outputs": [
    {
     "name": "stdout",
     "output_type": "stream",
     "text": [
      "+----+-----------+---+---------------+--------------------+\n",
      "|anio|     genero| id|     plataforma|              titulo|\n",
      "+----+-----------+---+---------------+--------------------+\n",
      "|1998|   Aventura|  1|    Nintendo 64|The Legend of Zel...|\n",
      "|1985|Plataformas|  2|            NES|   Super Mario Bros.|\n",
      "|2001|    Shooter|  3|           Xbox|Halo: Combat Evolved|\n",
      "|1997|        RPG|  4|    PlayStation|   Final Fantasy VII|\n",
      "|2015|        RPG|  5|             PC|The Witcher 3: Wi...|\n",
      "|2011|    Sandbox|  6|             PC|           Minecraft|\n",
      "|1989|     Puzzle|  7|       Game Boy|              Tetris|\n",
      "|2013|     Acción|  8|  PlayStation 4|  Grand Theft Auto V|\n",
      "|1996|        RPG|  9|       Game Boy|         Pokémon Red|\n",
      "|1998|     Acción| 10|    PlayStation|    Metal Gear Solid|\n",
      "|2011|        RPG| 11|  PlayStation 3|          Dark Souls|\n",
      "|2001|      Lucha| 12|       GameCube|Super Smash Bros....|\n",
      "|2013|   Aventura| 13|  PlayStation 3|      The Last of Us|\n",
      "|1991|      Lucha| 14|         Arcade|   Street Fighter II|\n",
      "|2020| Simulación| 15|Nintendo Switch|Animal Crossing: ...|\n",
      "|1993|    Shooter| 16|             PC|                DOOM|\n",
      "|2018|   Aventura| 17|  PlayStation 4|Red Dead Redempti...|\n",
      "|1991|Plataformas| 18|        Genesis|  Sonic the Hedgehog|\n",
      "|2011|     Puzzle| 19|             PC|            Portal 2|\n",
      "|1995|        RPG| 20|           SNES|      Chrono Trigger|\n",
      "+----+-----------+---+---------------+--------------------+\n",
      "\n"
     ]
    }
   ],
   "source": [
    "# Import Pyspark\n",
    "from pyspark.sql import SparkSession\n",
    "\n",
    "spark = SparkSession.builder.appName(\"videojuegos\").getOrCreate()\n",
    "games_df = spark.read.json('videojuegos.json')\n",
    "games_df.createOrReplaceTempView(\"videojuegos\")\n",
    "spark.sql(\"SELECT * FROM videojuegos\").show()"
   ]
  },
  {
   "cell_type": "code",
   "execution_count": 18,
   "id": "f985efae-d427-4c7d-bba4-5c0fa879cdbf",
   "metadata": {},
   "outputs": [
    {
     "name": "stdout",
     "output_type": "stream",
     "text": [
      "+----+---------------+--------------------+\n",
      "|anio|     plataforma|              titulo|\n",
      "+----+---------------+--------------------+\n",
      "|2020|Nintendo Switch|Animal Crossing: ...|\n",
      "|2018|  PlayStation 4|Red Dead Redempti...|\n",
      "|2015|             PC|The Witcher 3: Wi...|\n",
      "|2013|  PlayStation 4|  Grand Theft Auto V|\n",
      "|2013|  PlayStation 3|      The Last of Us|\n",
      "|2011|             PC|           Minecraft|\n",
      "|2011|  PlayStation 3|          Dark Souls|\n",
      "|2011|             PC|            Portal 2|\n",
      "+----+---------------+--------------------+\n",
      "\n"
     ]
    }
   ],
   "source": [
    "# Show action games released after 2010:\n",
    "spark.sql(\n",
    "        \"\"\"\n",
    "             SELECT anio, plataforma, titulo\n",
    "             FROM videojuegos\n",
    "             WHERE anio > 2010\n",
    "             ORDER BY anio DESC\n",
    "\"\"\").show()"
   ]
  },
  {
   "cell_type": "code",
   "execution_count": 46,
   "id": "fa3f64a1-1ba5-4a90-9361-eaab49548274",
   "metadata": {},
   "outputs": [
    {
     "name": "stdout",
     "output_type": "stream",
     "text": [
      "+-----------+--------+\n",
      "|     genero|cantidad|\n",
      "+-----------+--------+\n",
      "|        RPG|       5|\n",
      "|   Aventura|       3|\n",
      "|      Lucha|       2|\n",
      "|    Shooter|       2|\n",
      "|Plataformas|       2|\n",
      "|     Puzzle|       2|\n",
      "|     Acción|       2|\n",
      "| Simulación|       1|\n",
      "|    Sandbox|       1|\n",
      "+-----------+--------+\n",
      "\n"
     ]
    }
   ],
   "source": [
    "# How many games are there per genre?\n",
    "spark.sql(\"\"\"\n",
    "    SELECT genero, COUNT(*) AS cantidad\n",
    "    FROM videojuegos\n",
    "    GROUP BY genero\n",
    "    ORDER BY cantidad DESC\n",
    "\"\"\").show()"
   ]
  },
  {
   "cell_type": "code",
   "execution_count": 55,
   "id": "19feb205-1410-4f61-b045-f0ffab120b7b",
   "metadata": {},
   "outputs": [
    {
     "name": "stdout",
     "output_type": "stream",
     "text": [
      "+--------------------+----+\n",
      "|              titulo|anio|\n",
      "+--------------------+----+\n",
      "|Animal Crossing: ...|2020|\n",
      "+--------------------+----+\n",
      "\n",
      "+-----------------+----+\n",
      "|           titulo|anio|\n",
      "+-----------------+----+\n",
      "|Super Mario Bros.|1985|\n",
      "+-----------------+----+\n",
      "\n"
     ]
    }
   ],
   "source": [
    "# What is the oldest and newest game?\n",
    "\n",
    "spark.sql(\"\"\"  \n",
    "        SELECT titulo, anio \n",
    "        FROM videojuegos\n",
    "        ORDER BY anio DESC\n",
    "        LIMIT 1\n",
    "\"\"\").show()\n",
    "\n",
    "spark.sql(\"\"\"  \n",
    "        SELECT titulo, anio \n",
    "        FROM videojuegos\n",
    "        ORDER BY anio ASC\n",
    "        LIMIT 1\n",
    "\"\"\").show()"
   ]
  },
  {
   "cell_type": "code",
   "execution_count": 58,
   "id": "735b356b-5164-4d89-9e70-18533dc4aefc",
   "metadata": {},
   "outputs": [
    {
     "name": "stdout",
     "output_type": "stream",
     "text": [
      "+-----------------+-----------+------+----+\n",
      "|           titulo| plataforma|genero|anio|\n",
      "+-----------------+-----------+------+----+\n",
      "|Final Fantasy VII|PlayStation|   RPG|1997|\n",
      "|      Pokémon Red|   Game Boy|   RPG|1996|\n",
      "|   Chrono Trigger|       SNES|   RPG|1995|\n",
      "+-----------------+-----------+------+----+\n",
      "\n"
     ]
    }
   ],
   "source": [
    "# RPG games released in the 90s\n",
    "\n",
    "spark.sql(\"\"\"\n",
    "        SELECT titulo, plataforma, genero, anio\n",
    "        FROM videojuegos\n",
    "        WHERE  genero = \"RPG\" AND anio BETWEEN 1990 and 1999\n",
    "        ORDER BY anio DESC\n",
    "\"\"\").show()"
   ]
  },
  {
   "cell_type": "code",
   "execution_count": 61,
   "id": "40ee49b3-8698-4226-804c-723f1c4fe740",
   "metadata": {},
   "outputs": [
    {
     "name": "stdout",
     "output_type": "stream",
     "text": [
      "+---------------+------+\n",
      "|     plataforma|juegos|\n",
      "+---------------+------+\n",
      "|             PC|     4|\n",
      "|       Game Boy|     2|\n",
      "|    PlayStation|     2|\n",
      "|  PlayStation 3|     2|\n",
      "|  PlayStation 4|     2|\n",
      "|            NES|     1|\n",
      "|       GameCube|     1|\n",
      "|         Arcade|     1|\n",
      "|           SNES|     1|\n",
      "|        Genesis|     1|\n",
      "|Nintendo Switch|     1|\n",
      "|           Xbox|     1|\n",
      "|    Nintendo 64|     1|\n",
      "+---------------+------+\n",
      "\n"
     ]
    }
   ],
   "source": [
    "# How many games are there per platform?\n",
    "\n",
    "spark.sql(\"\"\"\n",
    "        SELECT plataforma, COUNT(*) AS juegos\n",
    "        FROM videojuegos\n",
    "        GROUP BY plataforma\n",
    "        ORDER BY juegos DESC\n",
    "\"\"\").show()"
   ]
  },
  {
   "cell_type": "code",
   "execution_count": 74,
   "id": "b32268a3-fd3b-49e3-bcf2-e98be81273d4",
   "metadata": {},
   "outputs": [
    {
     "name": "stdout",
     "output_type": "stream",
     "text": [
      "+----+--------------------+----------+\n",
      "|anio|              titulo|plataforma|\n",
      "+----+--------------------+----------+\n",
      "|1985|   Super Mario Bros.|       NES|\n",
      "|2001|Super Smash Bros....|  GameCube|\n",
      "+----+--------------------+----------+\n",
      "\n"
     ]
    }
   ],
   "source": [
    "# Games whose title contains the word 'Super'\n",
    "\n",
    "spark.sql(\"\"\" \n",
    "        SELECT anio, titulo, plataforma\n",
    "        FROM videojuegos\n",
    "        WHERE titulo LIKE \"%Super%\"\n",
    "\"\"\").show()"
   ]
  },
  {
   "cell_type": "code",
   "execution_count": null,
   "id": "c251b188-ed5c-4e6a-a912-93075aa2a13f",
   "metadata": {},
   "outputs": [],
   "source": []
  }
 ],
 "metadata": {
  "kernelspec": {
   "display_name": "Python 3 (ipykernel)",
   "language": "python",
   "name": "python3"
  },
  "language_info": {
   "codemirror_mode": {
    "name": "ipython",
    "version": 3
   },
   "file_extension": ".py",
   "mimetype": "text/x-python",
   "name": "python",
   "nbconvert_exporter": "python",
   "pygments_lexer": "ipython3",
   "version": "3.10.16"
  }
 },
 "nbformat": 4,
 "nbformat_minor": 5
}
